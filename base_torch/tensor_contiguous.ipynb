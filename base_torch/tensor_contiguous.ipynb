{
  "nbformat": 4,
  "nbformat_minor": 0,
  "metadata": {
    "colab": {
      "provenance": [],
      "authorship_tag": "ABX9TyOc4XS4aBnLp91T9dbdOWwW",
      "include_colab_link": true
    },
    "kernelspec": {
      "name": "python3",
      "display_name": "Python 3"
    },
    "language_info": {
      "name": "python"
    }
  },
  "cells": [
    {
      "cell_type": "markdown",
      "metadata": {
        "id": "view-in-github",
        "colab_type": "text"
      },
      "source": [
        "<a href=\"https://colab.research.google.com/github/ajmd2/Jinling-Enlightenment/blob/main/base_torch/tensor_contiguous.ipynb\" target=\"_parent\"><img src=\"https://colab.research.google.com/assets/colab-badge.svg\" alt=\"Open In Colab\"/></a>"
      ]
    },
    {
      "cell_type": "code",
      "execution_count": null,
      "metadata": {
        "colab": {
          "base_uri": "https://localhost:8080/"
        },
        "id": "KtRYnal3jtK2",
        "outputId": "1d48e1fc-74ab-464e-fcd2-354888c9ed7f"
      },
      "outputs": [
        {
          "output_type": "stream",
          "name": "stdout",
          "text": [
            "tensor([[1, 2, 3],\n",
            "        [4, 5, 6],\n",
            "        [7, 8, 9]])\n",
            " 1\n",
            " 2\n",
            " 3\n",
            " 4\n",
            " 5\n",
            " 6\n",
            " 7\n",
            " 8\n",
            " 9\n",
            "[torch.storage.TypedStorage(dtype=torch.int64, device=cpu) of size 9]\n",
            "True\n",
            "tensor([[1, 4, 7],\n",
            "        [2, 5, 8],\n",
            "        [3, 6, 9]])\n",
            " 1\n",
            " 2\n",
            " 3\n",
            " 4\n",
            " 5\n",
            " 6\n",
            " 7\n",
            " 8\n",
            " 9\n",
            "[torch.storage.TypedStorage(dtype=torch.int64, device=cpu) of size 9]\n",
            "False\n"
          ]
        }
      ],
      "source": [
        "import torch\n",
        "a = torch.tensor([[1,2,3],\n",
        "          [4,5,6],\n",
        "          [7,8,9]])\n",
        "\n",
        "print(a)\n",
        "print(a.storage())\n",
        "print(a.is_contiguous())\n",
        "\n",
        "b = a.t() # 转置\n",
        "print(b)\n",
        "print(b.storage())\n",
        "print(b.is_contiguous())"
      ]
    },
    {
      "cell_type": "markdown",
      "source": [
        "没有开辟新的内存空间，只是转换了视角"
      ],
      "metadata": {
        "id": "oxGMccQVlJs0"
      }
    },
    {
      "cell_type": "markdown",
      "source": [
        "常用的维度变换 view 和 reshape"
      ],
      "metadata": {
        "id": "SFovRJl6lWRl"
      }
    },
    {
      "cell_type": "code",
      "source": [
        "x = torch.rand(4,3)\n",
        "print(x)\n",
        "\n",
        "reshaped_x = x.view(-1,2)\n",
        "print(reshaped_x)\n",
        "\n",
        "print(x.reshape(-1,2))\n"
      ],
      "metadata": {
        "colab": {
          "base_uri": "https://localhost:8080/"
        },
        "id": "BKAEW-1jkNHH",
        "outputId": "c6769963-9e75-4609-c571-9b4298157fda"
      },
      "execution_count": null,
      "outputs": [
        {
          "output_type": "stream",
          "name": "stdout",
          "text": [
            "tensor([[0.1464, 0.9060, 0.4334],\n",
            "        [0.3459, 0.1171, 0.8813],\n",
            "        [0.2563, 0.8381, 0.9691],\n",
            "        [0.7802, 0.6059, 0.2662]])\n",
            "tensor([[0.1464, 0.9060],\n",
            "        [0.4334, 0.3459],\n",
            "        [0.1171, 0.8813],\n",
            "        [0.2563, 0.8381],\n",
            "        [0.9691, 0.7802],\n",
            "        [0.6059, 0.2662]])\n",
            "tensor([[0.1464, 0.9060],\n",
            "        [0.4334, 0.3459],\n",
            "        [0.1171, 0.8813],\n",
            "        [0.2563, 0.8381],\n",
            "        [0.9691, 0.7802],\n",
            "        [0.6059, 0.2662]])\n"
          ]
        }
      ]
    },
    {
      "cell_type": "code",
      "source": [
        "x.storage()"
      ],
      "metadata": {
        "colab": {
          "base_uri": "https://localhost:8080/"
        },
        "id": "5bxDewxFluog",
        "outputId": "afb87e2c-709e-41a0-8395-1bca5b14ccce"
      },
      "execution_count": null,
      "outputs": [
        {
          "output_type": "execute_result",
          "data": {
            "text/plain": [
              " 0.14635193347930908\n",
              " 0.9059754610061646\n",
              " 0.433414101600647\n",
              " 0.34590858221054077\n",
              " 0.11710619926452637\n",
              " 0.8813252449035645\n",
              " 0.2563209533691406\n",
              " 0.8381058573722839\n",
              " 0.9691262245178223\n",
              " 0.7801536321640015\n",
              " 0.6059253215789795\n",
              " 0.26615089178085327\n",
              "[torch.storage.TypedStorage(dtype=torch.float32, device=cpu) of size 12]"
            ]
          },
          "metadata": {},
          "execution_count": 8
        }
      ]
    },
    {
      "cell_type": "code",
      "source": [
        "transposed_x = x.transpose(0,1)\n",
        "print(transposed_x)"
      ],
      "metadata": {
        "colab": {
          "base_uri": "https://localhost:8080/"
        },
        "id": "F1p8rka7mAra",
        "outputId": "fa46db8f-927e-47ca-fa48-5d1ef0e90f99"
      },
      "execution_count": null,
      "outputs": [
        {
          "output_type": "stream",
          "name": "stdout",
          "text": [
            "tensor([[0.1464, 0.3459, 0.2563, 0.7802],\n",
            "        [0.9060, 0.1171, 0.8381, 0.6059],\n",
            "        [0.4334, 0.8813, 0.9691, 0.2662]])\n"
          ]
        }
      ]
    },
    {
      "cell_type": "code",
      "source": [
        "transposed_x.is_contiguous()"
      ],
      "metadata": {
        "colab": {
          "base_uri": "https://localhost:8080/"
        },
        "id": "gZWgmRW-mej1",
        "outputId": "311bc554-91dc-48d0-9be4-f36f6dcfd606"
      },
      "execution_count": null,
      "outputs": [
        {
          "output_type": "execute_result",
          "data": {
            "text/plain": [
              "False"
            ]
          },
          "metadata": {},
          "execution_count": 10
        }
      ]
    },
    {
      "cell_type": "code",
      "source": [
        "transposed_x.view(-1,2)"
      ],
      "metadata": {
        "colab": {
          "base_uri": "https://localhost:8080/",
          "height": 144
        },
        "id": "wvlOAWxdm0b5",
        "outputId": "eae5a305-a4b0-4084-ac89-4a92026d8619"
      },
      "execution_count": null,
      "outputs": [
        {
          "output_type": "error",
          "ename": "RuntimeError",
          "evalue": "view size is not compatible with input tensor's size and stride (at least one dimension spans across two contiguous subspaces). Use .reshape(...) instead.",
          "traceback": [
            "\u001b[0;31m---------------------------------------------------------------------------\u001b[0m",
            "\u001b[0;31mRuntimeError\u001b[0m                              Traceback (most recent call last)",
            "\u001b[0;32m<ipython-input-11-bd9168054344>\u001b[0m in \u001b[0;36m<cell line: 1>\u001b[0;34m()\u001b[0m\n\u001b[0;32m----> 1\u001b[0;31m \u001b[0mtransposed_x\u001b[0m\u001b[0;34m.\u001b[0m\u001b[0mview\u001b[0m\u001b[0;34m(\u001b[0m\u001b[0;34m-\u001b[0m\u001b[0;36m1\u001b[0m\u001b[0;34m,\u001b[0m\u001b[0;36m2\u001b[0m\u001b[0;34m)\u001b[0m\u001b[0;34m\u001b[0m\u001b[0;34m\u001b[0m\u001b[0m\n\u001b[0m",
            "\u001b[0;31mRuntimeError\u001b[0m: view size is not compatible with input tensor's size and stride (at least one dimension spans across two contiguous subspaces). Use .reshape(...) instead."
          ]
        }
      ]
    },
    {
      "cell_type": "code",
      "source": [
        "transposed_x.reshape(-1,2)"
      ],
      "metadata": {
        "colab": {
          "base_uri": "https://localhost:8080/"
        },
        "id": "bgNWBfE9m60R",
        "outputId": "223b74d4-6ffe-4c1f-fece-587365df0b0a"
      },
      "execution_count": null,
      "outputs": [
        {
          "output_type": "execute_result",
          "data": {
            "text/plain": [
              "tensor([[0.1464, 0.3459],\n",
              "        [0.2563, 0.7802],\n",
              "        [0.9060, 0.1171],\n",
              "        [0.8381, 0.6059],\n",
              "        [0.4334, 0.8813],\n",
              "        [0.9691, 0.2662]])"
            ]
          },
          "metadata": {},
          "execution_count": 12
        }
      ]
    },
    {
      "cell_type": "markdown",
      "source": [
        "view 不使用新的内存 只是一个新的视图，reshape会开辟新的空间"
      ],
      "metadata": {
        "id": "s17SNl9HnFYY"
      }
    },
    {
      "cell_type": "markdown",
      "source": [
        "二"
      ],
      "metadata": {
        "id": "DLmxQrMCncvz"
      }
    },
    {
      "cell_type": "code",
      "source": [
        "unsqueezed_x = x.unsqueeze(0)\n",
        "print(unsqueezed_x) # 在第一个维度上增加一个轴\n",
        "print(unsqueezed_x.shape)"
      ],
      "metadata": {
        "colab": {
          "base_uri": "https://localhost:8080/"
        },
        "id": "jvsNAv_nnDFo",
        "outputId": "05e1f719-5d29-49a2-c71a-aa9406f633ec"
      },
      "execution_count": null,
      "outputs": [
        {
          "output_type": "stream",
          "name": "stdout",
          "text": [
            "tensor([[[0.1464, 0.9060, 0.4334],\n",
            "         [0.3459, 0.1171, 0.8813],\n",
            "         [0.2563, 0.8381, 0.9691],\n",
            "         [0.7802, 0.6059, 0.2662]]])\n",
            "torch.Size([1, 4, 3])\n"
          ]
        }
      ]
    },
    {
      "cell_type": "code",
      "source": [
        "squeezed_x = unsqueezed_x.squeeze(0)\n",
        "print(squeezed_x)\n",
        "print(squeezed_x.shape) # squeeze只能删除维度为1的空维度"
      ],
      "metadata": {
        "colab": {
          "base_uri": "https://localhost:8080/"
        },
        "id": "4zsDuasLnoMl",
        "outputId": "97f5714b-26c9-4054-bf24-c0aaff80d9cf"
      },
      "execution_count": null,
      "outputs": [
        {
          "output_type": "stream",
          "name": "stdout",
          "text": [
            "tensor([[0.1464, 0.9060, 0.4334],\n",
            "        [0.3459, 0.1171, 0.8813],\n",
            "        [0.2563, 0.8381, 0.9691],\n",
            "        [0.7802, 0.6059, 0.2662]])\n",
            "torch.Size([4, 3])\n"
          ]
        }
      ]
    },
    {
      "cell_type": "code",
      "source": [],
      "metadata": {
        "id": "jI986jUnn9b3"
      },
      "execution_count": null,
      "outputs": []
    }
  ]
}